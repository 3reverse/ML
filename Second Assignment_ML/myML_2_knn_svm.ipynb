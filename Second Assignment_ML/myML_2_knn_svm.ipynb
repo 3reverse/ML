{
  "nbformat": 4,
  "nbformat_minor": 0,
  "metadata": {
    "colab": {
      "provenance": []
    },
    "kernelspec": {
      "name": "python3",
      "display_name": "Python 3"
    },
    "language_info": {
      "name": "python"
    }
  },
  "cells": [
    {
      "cell_type": "code",
      "source": [
        "import pandas as pd\n",
        "import numpy as np\n",
        "import matplotlib.pyplot as plt\n",
        "%matplotlib inline"
      ],
      "metadata": {
        "id": "PfpBpvfSpYh3"
      },
      "execution_count": null,
      "outputs": []
    },
    {
      "cell_type": "code",
      "source": [
        "df = pd.read_csv('emails.csv')\n",
        "df.shape"
      ],
      "metadata": {
        "id": "f9AEkCmBpgsn"
      },
      "execution_count": null,
      "outputs": []
    },
    {
      "cell_type": "code",
      "source": [
        "df.head()"
      ],
      "metadata": {
        "id": "WcUCM4_cpn8v"
      },
      "execution_count": null,
      "outputs": []
    },
    {
      "cell_type": "code",
      "source": [
        "x = df.drop(['Email No.', 'Prediction'], axis=1).dropna(how='any', axis=0).astype(int)\n",
        "y = df['Prediction'].dropna(how='any', axis=0).astype(int)"
      ],
      "metadata": {
        "id": "JwdOQnXfprBP"
      },
      "execution_count": null,
      "outputs": []
    },
    {
      "cell_type": "code",
      "source": [
        "set(x.dtypes)"
      ],
      "metadata": {
        "id": "5lSX1Vn81OZc"
      },
      "execution_count": null,
      "outputs": []
    },
    {
      "cell_type": "code",
      "source": [
        "# scaling data using min max\n",
        "from sklearn.preprocessing import MinMaxScaler\n",
        "scalar = MinMaxScaler()\n",
        "x_scaled = scalar.fit_transform(x)"
      ],
      "metadata": {
        "id": "CXgSJhBCp6tf"
      },
      "execution_count": null,
      "outputs": []
    },
    {
      "cell_type": "code",
      "source": [
        "# cross validation\n",
        "from sklearn.model_selection import train_test_split\n",
        "x_train,x_test,y_train,y_test = train_test_split(x_scaled, y, random_state=0, train_size=0.25)"
      ],
      "metadata": {
        "id": "cr551c1gp9mv"
      },
      "execution_count": null,
      "outputs": []
    },
    {
      "cell_type": "code",
      "source": [
        "x.head()"
      ],
      "metadata": {
        "id": "K2B54AOcqmAX"
      },
      "execution_count": null,
      "outputs": []
    },
    {
      "cell_type": "code",
      "source": [
        "# KNN\n",
        "from sklearn.neighbors import KNeighborsClassifier\n",
        "knn = KNeighborsClassifier(n_neighbors=20)"
      ],
      "metadata": {
        "id": "idW7J9iwqrfG"
      },
      "execution_count": null,
      "outputs": []
    },
    {
      "cell_type": "code",
      "source": [
        "knn.fit(x_train, y_train)"
      ],
      "metadata": {
        "id": "MlhaFMJDrNtu"
      },
      "execution_count": null,
      "outputs": []
    },
    {
      "cell_type": "code",
      "source": [
        "#predict\n",
        "y_pred = knn.predict(x_test)"
      ],
      "metadata": {
        "id": "KT1BbTlRrRlG"
      },
      "execution_count": null,
      "outputs": []
    },
    {
      "cell_type": "code",
      "source": [
        "# checking metrics\n",
        "from sklearn.metrics import ConfusionMatrixDisplay, accuracy_score, classification_report"
      ],
      "metadata": {
        "id": "NCeKGUAkrb9f"
      },
      "execution_count": null,
      "outputs": []
    },
    {
      "cell_type": "code",
      "source": [
        "ConfusionMatrixDisplay.from_predictions(y_test, y_pred)"
      ],
      "metadata": {
        "id": "2dPHgFdAsTDu"
      },
      "execution_count": null,
      "outputs": []
    },
    {
      "cell_type": "code",
      "source": [
        "y_test.value_counts()"
      ],
      "metadata": {
        "id": "4j7vbgrisxj-"
      },
      "execution_count": null,
      "outputs": []
    },
    {
      "cell_type": "code",
      "source": [
        "accuracy_score(y_test, y_pred)"
      ],
      "metadata": {
        "id": "_rK7V-CDszcu"
      },
      "execution_count": null,
      "outputs": []
    },
    {
      "cell_type": "code",
      "source": [
        "print(classification_report(y_test, y_pred))"
      ],
      "metadata": {
        "id": "hrtLnUQLuABG"
      },
      "execution_count": null,
      "outputs": []
    },
    {
      "cell_type": "code",
      "source": [
        "# finding error for each k value\n",
        "error = []\n",
        "for k in range(1,41):\n",
        "  knn = KNeighborsClassifier(n_neighbors = k)\n",
        "  knn.fit(x_train, y_train)\n",
        "  y_pred = knn.predict(x_test)\n",
        "  error.append(np.mean(y_pred != y_test))"
      ],
      "metadata": {
        "id": "kbaARM9VueO2"
      },
      "execution_count": null,
      "outputs": []
    },
    {
      "cell_type": "code",
      "source": [
        "error"
      ],
      "metadata": {
        "id": "CrdeErZfyKOl"
      },
      "execution_count": null,
      "outputs": []
    },
    {
      "cell_type": "markdown",
      "source": [
        "#SVM"
      ],
      "metadata": {
        "id": "TzDYNFxEytAN"
      }
    },
    {
      "cell_type": "code",
      "source": [
        "from sklearn.svm import SVC # Support Vector Classifier\n",
        "\n",
        "svm = SVC(kernel='linear')  # poly, rbf, sigmoid other kernels\n",
        "svm.fit(x_train, y_train)"
      ],
      "metadata": {
        "id": "gGu1erKgyvhQ"
      },
      "execution_count": null,
      "outputs": []
    },
    {
      "cell_type": "code",
      "source": [
        "y_pred = svm.predict(x_test)"
      ],
      "metadata": {
        "id": "NUIaXq2Rz7ql"
      },
      "execution_count": null,
      "outputs": []
    },
    {
      "cell_type": "code",
      "source": [
        "accuracy_score(y_test, y_pred)"
      ],
      "metadata": {
        "id": "izET7J1x0Gz1"
      },
      "execution_count": null,
      "outputs": []
    },
    {
      "cell_type": "code",
      "source": [
        "# @title\n"
      ],
      "metadata": {
        "id": "yyg9MoSJ2iJE"
      },
      "execution_count": null,
      "outputs": []
    }
  ]
}